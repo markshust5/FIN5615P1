{
 "cells": [
  {
   "cell_type": "markdown",
   "metadata": {
    "deletable": false,
    "editable": false
   },
   "source": [
    "<h2>FIN5615 Project #1\n",
    "    <p class=\"text-primary\">Time Value of Money</p>\n",
    "</h2>\n",
    "\n",
    "<div class = \"alert alert-block alert-danger\">\n",
    "    __Due Date__: October 5th, 2020, 11:59PM EST\n",
    "</div>  "
   ]
  },
  {
   "cell_type": "markdown",
   "metadata": {
    "deletable": false,
    "editable": false
   },
   "source": [
    "<div class = \"panel panel-success\">\n",
    "    <div class = \"panel-heading\"> \n",
    "    <span style=\"color:black\">__Project Introduction__</span>\n",
    "    </div>\n",
    "    <div class = \"panel-body\"> \n",
    "    In this project we will examine the time value of money and the mechanics of discounting future cashflows to present day. We will then attempt to apply these concepts to valuing bonds and equities.\n",
    "    </div>\n",
    "</div>\n",
    "\n",
    "<div class = \"panel panel-info\">\n",
    "    <div class = \"panel-heading\"> \n",
    "    <span style=\"color:black\">__Instructions__</span>\n",
    "    </div>\n",
    "    <div class = \"panel-body\"> \n",
    "    Please code you solutions directly in this Notebook under each task in the cells provided below. Include all code used to produce your results, and support your answers with textual explanations if neccessary. You may feel free to add additional Code and/or Markdown cells as needed. Code must be written using **Python 3**.  \n",
    "    \n",
    "    <br>Please order the cells in your Notebook in the order in which they are intended to run! It is expected that your Notebook is able to run in sequence from start to finish without any errors (before submitting check by: `Kernel > Restart & Run All`).  \n",
    "      \n",
    "    <br>Once ready, please submit your assignment as an **.ipynb file** (`File > Download as > Notebook`). You must name your files in the following format: **`FIN5615_Assignmnet_1_Richard_Lee_tuc12345.ipynb`**.\n",
    "    </div>\n",
    "</div>\n",
    "\n",
    "---\n",
    "<div class = \"alert alert-block alert-warning\">\n",
    "    <b>Note</b>: Import all libraries that you plan on using in the code block below.\n",
    "</div>"
   ]
  },
  {
   "cell_type": "code",
   "execution_count": 1,
   "metadata": {},
   "outputs": [],
   "source": [
    "import numpy as np"
   ]
  },
  {
   "cell_type": "markdown",
   "metadata": {
    "deletable": false,
    "editable": false
   },
   "source": [
    "<div class = \"panel panel-primary\">\n",
    "    <div class = \"panel-heading\"> \n",
    "    <span style=\"color:white\">__Task 1__</span>\n",
    "    </div>\n",
    "    <div class = \"panel-body\"> \n",
    "    Time value of money is the concept that receiving a cashflow today is worth more than receiving the same amount at a future date. We can compare cashflows of differing time values by calculating and comparing their present values.  \n",
    "    \n",
    "    <br>Recall that the formula to calculate the present value of a cashflow *CF* at time *t* assuming annual compounding at rate *r* is:   \n",
    "    \n",
    "    <br>$$PV = \\frac{CF}{(1 + r)^t}$$\n",
    "    \n",
    "    <br>Compute the present value of a cashflow based on the inputs below.\n",
    "    <p style=\"text-align:right;\">[5pts]</p>\n",
    "    </div>\n",
    "</div>"
   ]
  },
  {
   "cell_type": "code",
   "execution_count": 2,
   "metadata": {},
   "outputs": [
    {
     "name": "stdout",
     "output_type": "stream",
     "text": [
      "90.70294784580499\n"
     ]
    }
   ],
   "source": [
    "CF = 100.\n",
    "rate = .05\n",
    "t = 2\n",
    "\n",
    "PV= CF / (1 + rate)**t\n",
    "print(PV)"
   ]
  },
  {
   "cell_type": "markdown",
   "metadata": {
    "deletable": false,
    "editable": false
   },
   "source": [
    "<div class = \"panel panel-primary\">\n",
    "    <div class = \"panel-heading\"> \n",
    "    <span style=\"color:white\">__Task 2__</span>\n",
    "    </div>\n",
    "    <div class = \"panel-body\"> \n",
    "    The present value formula can be modified to account for periodic compounding at some m-thly frequency:  \n",
    "    \n",
    "    <br>$$PV = \\frac{CF}{\\left(1 + \\frac{r}{m}\\right)^{mt}}$$\n",
    "    \n",
    "    <br>Assuming the same inputs as the previous task, now include a new variable *m* with a value of 12 representing monthly compounding. Calculate the cashflow's present value given monthly compounding.\n",
    "    <p style=\"text-align:right;\">[10pts]</p>\n",
    "    </div>\n",
    "</div>"
   ]
  },
  {
   "cell_type": "code",
   "execution_count": 3,
   "metadata": {},
   "outputs": [
    {
     "name": "stdout",
     "output_type": "stream",
     "text": [
      "90.5025423358517\n"
     ]
    }
   ],
   "source": [
    "m = 12\n",
    "frequency = m * t\n",
    "\n",
    "MonthlyCompoundingPV = CF / (1 + rate/m)** frequency\n",
    "print(MonthlyCompoundingPV)"
   ]
  },
  {
   "cell_type": "markdown",
   "metadata": {
    "deletable": false,
    "editable": false
   },
   "source": [
    "<div class = \"panel panel-primary\">\n",
    "    <div class = \"panel-heading\"> \n",
    "    <span style=\"color:white\">__Task 3__</span>\n",
    "    </div>\n",
    "    <div class = \"panel-body\"> \n",
    "    Calculate the cashflow's present value under daily compounding.  \n",
    "    \n",
    "    <br>Answer the following questions:  \n",
    "    <ul>\n",
    "        <li>What happens to the present value as we increase the compounding frequency? Why?</li>\n",
    "        <li>What will happen if we increase the compounding frequency to infinity (or some extremely large number)?</li>\n",
    "    </ul>\n",
    "    <p style=\"text-align:right;\">[15pts]</p>\n",
    "    </div>\n",
    "</div>"
   ]
  },
  {
   "cell_type": "code",
   "execution_count": 4,
   "metadata": {},
   "outputs": [
    {
     "name": "stdout",
     "output_type": "stream",
     "text": [
      "90.4843615007843\n",
      "90.4837410571922\n"
     ]
    }
   ],
   "source": [
    "# Same code as above just a new m of 365\n",
    "m = 365\n",
    "frequency = m * t\n",
    "\n",
    "MonthlyCompoundingPV = CF / (1 + rate/m)** frequency\n",
    "print(MonthlyCompoundingPV)\n",
    "\n",
    "#super large m\n",
    "m = 100000000\n",
    "frequency = m * t\n",
    "\n",
    "MonthlyCompoundingPV = CF / (1 + rate/m)** frequency\n",
    "print(MonthlyCompoundingPV)\n",
    "\n",
    "\n"
   ]
  },
  {
   "cell_type": "markdown",
   "metadata": {},
   "source": [
    "As we increase componuding frequency ve reduce the PV, we get a higher rate of return becasue we \"compound\" our return on larger and larger gains if we compute them more frequently. As we increase m we will converge on continuos compounding.\n",
    "\n",
    "\n"
   ]
  },
  {
   "cell_type": "markdown",
   "metadata": {
    "deletable": false,
    "editable": false
   },
   "source": [
    "<div class = \"panel panel-primary\">\n",
    "    <div class = \"panel-heading\"> \n",
    "    <span style=\"color:white\">__Task 4__</span>\n",
    "    </div>\n",
    "    <div class = \"panel-body\"> \n",
    "    Recall the formula for calculating present value under continuous compounding:  \n",
    "    \n",
    "    <br>$$PV = CF * e^{-rt}$$\n",
    "    \n",
    "    <br>Using the same inputs thus far, calculate the cashflow's present value under continuous compounding.\n",
    "    <p style=\"text-align:right;\">[15pts]</p>\n",
    "    </div>\n",
    "</div>"
   ]
  },
  {
   "cell_type": "code",
   "execution_count": 5,
   "metadata": {},
   "outputs": [
    {
     "name": "stdout",
     "output_type": "stream",
     "text": [
      "90.48374180359595\n"
     ]
    }
   ],
   "source": [
    "# use exp as e for contunious\n",
    "\n",
    "PvContinuous = CF * np.exp(rate * t *-1)\n",
    "print(PvContinuous)"
   ]
  },
  {
   "cell_type": "markdown",
   "metadata": {
    "deletable": false,
    "editable": false
   },
   "source": [
    "<div class = \"panel panel-primary\">\n",
    "    <div class = \"panel-heading\"> \n",
    "    <span style=\"color:white\">__Task 5__</span>\n",
    "    </div>\n",
    "    <div class = \"panel-body\"> \n",
    "    Recall that the net present value of a stream of cashflows is simply the sum of the present values of each individual cashflow:  \n",
    "    <br>\n",
    "    $$NPV = \\sum_{t}PV(CF_t)$$\n",
    "    \n",
    "    <br>Calculate the net present value for the following cashflows at years 1, 2, and 5 of \\$100, \\$110, and \\$200, respectively. Assume annual compounding at a rate of 2%.\n",
    "    <p style=\"text-align:right;\">[15pts]</p>\n",
    "    </div>\n",
    "</div>"
   ]
  },
  {
   "cell_type": "code",
   "execution_count": 6,
   "metadata": {},
   "outputs": [
    {
     "name": "stdout",
     "output_type": "stream",
     "text": [
      "384.91394358843604\n"
     ]
    }
   ],
   "source": [
    "Cf1= 100\n",
    "Cf2=110\n",
    "Cf3=200\n",
    "\n",
    "rate = .02\n",
    "\n",
    "Pv1=Cf1/(1+rate)\n",
    "Pv2=Cf2/(1+rate)**2\n",
    "Pv3=Cf3/(1+rate)**5\n",
    "\n",
    "PvCashflows=[Pv1,Pv2,Pv3]\n",
    "\n",
    "NPV=sum(PvCashflows)\n",
    "\n",
    "\n",
    "print(NPV)"
   ]
  },
  {
   "cell_type": "markdown",
   "metadata": {
    "deletable": false,
    "editable": false
   },
   "source": [
    "<div class = \"panel panel-primary\">\n",
    "    <div class = \"panel-heading\"> \n",
    "    <span style=\"color:white\">__Task 6__</span>\n",
    "    </div>\n",
    "    <div class = \"panel-body\"> \n",
    "    The price of a risk-free coupon bearing bond is simply the NPV of its future generated cashflow stream. But given the consistent periodic coupon payments, we can treat the coupons as an annuity and simplify the NPV formula:   \n",
    "    <br>\n",
    "    $$B = F \\left(\\frac{c}{m}\\right)\\frac{1 - \\left(1 + \\frac{r}{m}\\right)^{-mT}}{\\frac{r}{m}}  + F(1 + r)^{-T}$$\n",
    "    \n",
    "    <br>Where $B$ is the bond price, $F$ is the face amount, $m$ is the coupon payment frequency, $T$ is the maturity, and interest rate $r$.  \n",
    "    \n",
    "    <br>Apply this formula to calculate the price of a bond with \\$1000 face value, maturing in 30 years, paying a semi-annual coupon of 4.5%, assuming a constant risk-free interest rate of 2%.  \n",
    "    \n",
    "    <br>Answer the following questions: \n",
    "    <ul>\n",
    "        <li>Is this a premium or a discount bond?</li>\n",
    "        <li>What might cause this bond to trade at a market price that is different from this calculated price?</li>\n",
    "    </ul>\n",
    "    <p style=\"text-align:right;\">[20pts]</p>\n",
    "    </div>\n",
    "</div>"
   ]
  },
  {
   "cell_type": "code",
   "execution_count": 7,
   "metadata": {},
   "outputs": [
    {
     "name": "stdout",
     "output_type": "stream",
     "text": [
      "1563.5592531199522\n"
     ]
    }
   ],
   "source": [
    "F=1000\n",
    "m =2\n",
    "T=30\n",
    "r=.02\n",
    "PMT=.045\n",
    "\n",
    "Frequency = m*T\n",
    "cupon = (PMT * F )\n",
    "#r/m rate\n",
    "AnnualizedRate = r/m\n",
    "\n",
    "\n",
    "B = (cupon/m) * ((1-(1+AnnualizedRate)**-Frequency)/AnnualizedRate) + F/(1+r)**T\n",
    "\n",
    "print(B)"
   ]
  },
  {
   "cell_type": "markdown",
   "metadata": {},
   "source": [
    "THis is a premium bond, Market Price could deviate becasue of other risks not included in the price, deviations from YTM and other percived risks such as defoult of even liquidity concerns, if there are big swings then we may not be able to update the model and price out the true rates for what they trade for.\n",
    "\n"
   ]
  },
  {
   "cell_type": "markdown",
   "metadata": {
    "deletable": false,
    "editable": false
   },
   "source": [
    "<div class = \"panel panel-primary\">\n",
    "    <div class = \"panel-heading\"> \n",
    "    <span style=\"color:white\">__Task 7__</span>\n",
    "    </div>\n",
    "    <div class = \"panel-body\"> \n",
    "    Recall that the dividend discount model is a stock valuation model that attempts to value a stock as if it was a bond, based on its dividends. It assumes that a company will continue to pay its dividend uninterrupted in perpituity, and that the stock price is simply the sum of all of its future dividend payments, discounted back to their present value:  \n",
    "    <br>\n",
    "    $$P = \\frac{D_1}{r - g}$$\n",
    "    \n",
    "    <br>Where $P$ is the stock price, $D$ is the company's annual dividend payment in the next year, and $r$ is the company's cost of capital, and $g$ is the expected dividend growth rate.  \n",
    "    \n",
    "    <br>As of June 2020, AAPL paid an annual dividend \\$3.28 with a most recent dividend growth rate of 6.49%, and an estimated cost of capital of 9%. According to the dividend discount model, what is the value of AAPL stock?  \n",
    "    \n",
    "    <br>How does that compare with the market price of AAPL ($364.8 as of June 2020). What are some shortcomings of the dividend discount model? How would the dividend discount model value TSLA?\n",
    "    <p style=\"text-align:right;\">[20pts]</p>\n",
    "    </div>\n",
    "</div>"
   ]
  },
  {
   "cell_type": "code",
   "execution_count": 8,
   "metadata": {},
   "outputs": [
    {
     "name": "stdout",
     "output_type": "stream",
     "text": [
      "139.1582470119522\n"
     ]
    }
   ],
   "source": [
    "D=3.28\n",
    "r=.09\n",
    "g=.0649\n",
    "\n",
    "D1=D*(1+g)\n",
    "\n",
    "P=D1/(r-g)\n",
    "\n",
    "print(P)\n",
    "\n"
   ]
  },
  {
   "cell_type": "markdown",
   "metadata": {},
   "source": [
    "Our model wildly underestimates the value, this does not account for animal spirits and any other buyisng pressures. Some drawbacks are that becasue of the constate assumpitons any deviations in our requride rate or the growth of the company mean that we have a bad calctualion. With a stock like tesla this does not account for volatitily and there is to much varibability in the Divident to safely assume that it will contuinue in perpetuity.\n",
    "\n",
    "\n"
   ]
  },
  {
   "cell_type": "code",
   "execution_count": null,
   "metadata": {},
   "outputs": [],
   "source": []
  }
 ],
 "metadata": {
  "kernelspec": {
   "display_name": "Python 3",
   "language": "python",
   "name": "python3"
  },
  "language_info": {
   "codemirror_mode": {
    "name": "ipython",
    "version": 3
   },
   "file_extension": ".py",
   "mimetype": "text/x-python",
   "name": "python",
   "nbconvert_exporter": "python",
   "pygments_lexer": "ipython3",
   "version": "3.7.4"
  }
 },
 "nbformat": 4,
 "nbformat_minor": 2
}
